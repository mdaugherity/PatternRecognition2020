{
 "cells": [
  {
   "cell_type": "markdown",
   "metadata": {},
   "source": [
    "# DIY NN XOR DEMO"
   ]
  },
  {
   "cell_type": "code",
   "execution_count": 23,
   "metadata": {},
   "outputs": [],
   "source": [
    "import numpy as np\n",
    "import matplotlib.pyplot as plt"
   ]
  },
  {
   "cell_type": "code",
   "execution_count": 24,
   "metadata": {},
   "outputs": [],
   "source": [
    "from IPython.display import display                               \n",
    "from ipywidgets import interactive"
   ]
  },
  {
   "cell_type": "code",
   "execution_count": 25,
   "metadata": {},
   "outputs": [],
   "source": [
    "NUM_HIDDEN = 2\n",
    "\n",
    "input = np.ones(3)   # x1, x2, bias\n",
    "hidden = np.ones(NUM_HIDDEN+1)  # h1, h2, bias\n",
    "output = np.zeros(1) # o1\n",
    "\n",
    "w1 = np.zeros_like(input) # input to hidden\n",
    "w2 = np.zeros_like(hidden) # hidden to output"
   ]
  },
  {
   "cell_type": "code",
   "execution_count": 26,
   "metadata": {},
   "outputs": [],
   "source": [
    "# very simple actiivation function\n",
    "def act(x):\n",
    "    if x>=0: return 1\n",
    "    else: return -1"
   ]
  },
  {
   "cell_type": "code",
   "execution_count": 27,
   "metadata": {},
   "outputs": [],
   "source": [
    "def act(x):\n",
    "    return np.tanh(x)"
   ]
  },
  {
   "cell_type": "code",
   "execution_count": 28,
   "metadata": {},
   "outputs": [],
   "source": [
    "def forward():\n",
    "    \"\"\"propogates input to output\"\"\"\n",
    "    net1 = np.dot(input,w1)\n",
    "    hidden[0] = act(net1)\n",
    "    \n",
    "    net2 = np.dot(hidden,w2)\n",
    "    #output[0] = act(net2)\n",
    "    output[0] = net2    "
   ]
  },
  {
   "cell_type": "code",
   "execution_count": 29,
   "metadata": {},
   "outputs": [],
   "source": [
    "def plot_decision(X, cmap='bwr', h=0.1, margin=0.5):\n",
    "    \"\"\"Plots decision boundary of clf.  X is only used to find min/max range; h = grid size; margin = extra border padding\"\"\"\n",
    "    x_min, x_max = X[:, 0].min()-margin, X[:, 0].max()+margin\n",
    "    y_min, y_max = X[:, 1].min()-margin, X[:, 1].max()+margin\n",
    "    xrange = np.arange(x_min, x_max, h)\n",
    "    yrange = np.arange(y_min, y_max, h)\n",
    "    xx, yy = np.meshgrid(xrange,yrange )\n",
    "    Z = np.zeros_like(xx)\n",
    "    \n",
    "    for i in range(len(xrange)):\n",
    "        input[0] = xrange[i]\n",
    "        for j in range(len(yrange)):\n",
    "            input[1] = yrange[j]\n",
    "            forward()\n",
    "            Z[i,j] = output[0]\n",
    "    #Z = clf.predict(np.c_[xx.ravel(), yy.ravel()])\n",
    "    #Z = Z.reshape(xx.shape)\n",
    "    #print(Z)\n",
    "    plt.pcolormesh(xx, yy, Z, cmap=cmap,vmin=-2, vmax=2)"
   ]
  },
  {
   "cell_type": "code",
   "execution_count": 30,
   "metadata": {},
   "outputs": [
    {
     "name": "stdout",
     "output_type": "stream",
     "text": [
      "[0.14985202 0.44139542 0.37751567]\n",
      "[0.39865214 0.07783722 0.18185591]\n"
     ]
    },
    {
     "data": {
      "image/png": "[encoded data removed]",
      "text/plain": [
       "<Figure size 432x288 with 1 Axes>"
      ]
     },
     "metadata": {
      "needs_background": "light"
     },
     "output_type": "display_data"
    }
   ],
   "source": [
    "w1 = np.random.rand(w1.size)\n",
    "w2 = np.random.rand(w2.size)\n",
    "\n",
    "X = np.array([[-1,-1],[1,1]])\n",
    "\n",
    "plot_decision(X,h = 0.1)\n",
    "print(w1)\n",
    "print(w2)\n",
    "#print(input)\n",
    "#print(hidden)\n",
    "#print(output)"
   ]
  },
  {
   "cell_type": "code",
   "execution_count": 31,
   "metadata": {},
   "outputs": [],
   "source": [
    "def nn_widget(w_in1,w_in2,w_inb,w_out=1,w_outb=0):\n",
    "    w1[0] = w_in1\n",
    "    w1[1] = w_in2\n",
    "    w1[2] = w_inb\n",
    "    w2[0] = w_out\n",
    "    w2[1] = w_outb\n",
    "    plot_decision(X,h = 0.1,cmap='bwr')"
   ]
  },
  {
   "cell_type": "code",
   "execution_count": 32,
   "metadata": {},
   "outputs": [
    {
     "data": {
      "application/vnd.jupyter.widget-view+json": {
       "model_id": "fba7b17c4ebd4691a2ac557983aa7871",
       "version_major": 2,
       "version_minor": 0
      },
      "text/plain": [
       "interactive(children=(FloatSlider(value=0.0, description='w_in1', max=1.0, min=-1.0), FloatSlider(value=0.0, d…"
      ]
     },
     "metadata": {},
     "output_type": "display_data"
    }
   ],
   "source": [
    "#w1 = np.random.rand(w1.size)\n",
    "#w2 = np.random.rand(w2.size)\n",
    "NUM_HIDDEN = 1\n",
    "\n",
    "input = np.ones(3)   # x1, x2, bias\n",
    "hidden = np.ones(NUM_HIDDEN+1)  # h1, bias\n",
    "output = np.zeros(1) # o1\n",
    "\n",
    "w1 = np.zeros_like(input) # input to hidden\n",
    "w2 = np.zeros_like(hidden) # input to hidden\n",
    "\n",
    "X = np.array([[-1,-1],[1,1]])\n",
    "\n",
    "inter=interactive(nn_widget, w_in1=(-1,1,0.1), w_in2=(-1,1,0.1), w_inb=(-1,1,0.1),\n",
    "                  w_out=(-1,1,0.1), w_outb=(-1,1,0.1))\n",
    "\n",
    "display(inter)"
   ]
  },
  {
   "cell_type": "markdown",
   "metadata": {},
   "source": [
    "----\n",
    "# 2 Hidden Nodes"
   ]
  },
  {
   "cell_type": "code",
   "execution_count": 33,
   "metadata": {},
   "outputs": [],
   "source": [
    "NUM_INPUT = 2+1 # INCLUDES BIAS\n",
    "NUM_HIDDEN = 2+1  # INCLUDES BIAS\n",
    "\n",
    "input = np.ones(NUM_INPUT)   # x1, x2, bias\n",
    "hidden = np.ones(NUM_HIDDEN)  # h1, h2, bias\n",
    "output = np.zeros(1) # o1\n",
    "\n",
    "w1 = np.zeros((NUM_HIDDEN-1, NUM_INPUT)) # input to hidden\n",
    "w2 = np.zeros(NUM_HIDDEN) # hidden to output\n"
   ]
  },
  {
   "cell_type": "code",
   "execution_count": 34,
   "metadata": {},
   "outputs": [],
   "source": [
    "def forward2():\n",
    "    \"\"\"propogates input to output\"\"\"\n",
    "    for i in range(NUM_HIDDEN-1):   # exclude bias node\n",
    "        net = np.dot(input,w1[i])\n",
    "        hidden[i] = act(net)\n",
    "\n",
    "    net2 = np.dot(hidden,w2)\n",
    "    #output[0] = act(net2)\n",
    "    output[0] = net2    "
   ]
  },
  {
   "cell_type": "code",
   "execution_count": 35,
   "metadata": {},
   "outputs": [],
   "source": [
    "def plot_decision2(X, cmap='bwr', h=0.1, margin=0.5):\n",
    "    \"\"\"Plots decision boundary of clf.  X is only used to find min/max range; h = grid size; margin = extra border padding\"\"\"\n",
    "    x_min, x_max = X[:, 0].min()-margin, X[:, 0].max()+margin\n",
    "    y_min, y_max = X[:, 1].min()-margin, X[:, 1].max()+margin\n",
    "    xrange = np.arange(x_min, x_max, h)\n",
    "    yrange = np.arange(y_min, y_max, h)\n",
    "    xx, yy = np.meshgrid(xrange,yrange )\n",
    "    Z = np.zeros_like(xx)\n",
    "    \n",
    "    for i in range(len(xrange)):\n",
    "        input[0] = xrange[i]\n",
    "        for j in range(len(yrange)):\n",
    "            input[1] = yrange[j]\n",
    "            forward2()\n",
    "            Z[i,j] = output[0]\n",
    "    #Z = clf.predict(np.c_[xx.ravel(), yy.ravel()])\n",
    "    #Z = Z.reshape(xx.shape)\n",
    "    #print(Z)\n",
    "    plt.pcolormesh(xx, yy, Z, cmap=cmap,vmin=-2, vmax=2)"
   ]
  },
  {
   "cell_type": "code",
   "execution_count": 36,
   "metadata": {},
   "outputs": [],
   "source": [
    "def nn_widget(h10,h11,h12,h20,h21,h22,o0,o1,o2):\n",
    "    w1[0,0] = h10\n",
    "    w1[0,1] = h11\n",
    "    w1[0,2] = h12\n",
    "    w1[1,0] = h20\n",
    "    w1[1,1] = h21\n",
    "    w1[1,2] = h22\n",
    "    w2[0] = o0\n",
    "    w2[1] = o1\n",
    "    w2[2] = o2\n",
    "    \n",
    "    plot_decision2(X,h = 0.1,cmap='bwr')"
   ]
  },
  {
   "cell_type": "code",
   "execution_count": 37,
   "metadata": {},
   "outputs": [
    {
     "data": {
      "application/vnd.jupyter.widget-view+json": {
       "model_id": "860effdf4ef64f40a9b90d341b69a061",
       "version_major": 2,
       "version_minor": 0
      },
      "text/plain": [
       "interactive(children=(FloatSlider(value=0.0, description='h10', max=1.0, min=-1.0), FloatSlider(value=0.0, des…"
      ]
     },
     "metadata": {},
     "output_type": "display_data"
    }
   ],
   "source": [
    "\n",
    "X = np.array([[-1,-1],[1,1]])\n",
    "\n",
    "inter=interactive(nn_widget, h10=(-1,1,0.1), h11=(-1,1,0.1), h12=(-1,1,0.1),\n",
    "                  h20=(-1,1,0.1), h21=(-1,1,0.1), h22=(-1,1,0.1),\n",
    "                  o0=(-1,1,0.1), o1=(-1,1,0.1), o2=(-1,1,0.1))\n",
    "\n",
    "display(inter)"
   ]
  },
  {
   "cell_type": "code",
   "execution_count": 20,
   "metadata": {},
   "outputs": [
    {
     "data": {
      "text/plain": [
       "array([[0., 0., 0.],\n",
       "       [0., 0., 0.]])"
      ]
     },
     "execution_count": 20,
     "metadata": {},
     "output_type": "execute_result"
    }
   ],
   "source": [
    "w1"
   ]
  },
  {
   "cell_type": "code",
   "execution_count": 21,
   "metadata": {},
   "outputs": [
    {
     "data": {
      "text/plain": [
       "array([0., 0., 0.])"
      ]
     },
     "execution_count": 21,
     "metadata": {},
     "output_type": "execute_result"
    }
   ],
   "source": [
    "w2\n"
   ]
  }
 ],
 "metadata": {
  "kernelspec": {
   "display_name": "Python 3",
   "language": "python",
   "name": "python3"
  },
  "language_info": {
   "codemirror_mode": {
    "name": "ipython",
    "version": 3
   },
   "file_extension": ".py",
   "mimetype": "text/x-python",
   "name": "python",
   "nbconvert_exporter": "python",
   "pygments_lexer": "ipython3",
   "version": "3.7.6"
  }
 },
 "nbformat": 4,
 "nbformat_minor": 4
}
