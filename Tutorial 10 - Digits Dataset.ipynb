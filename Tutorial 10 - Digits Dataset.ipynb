{
 "cells": [
  {
   "cell_type": "markdown",
   "metadata": {},
   "source": [
    "# Tutorial 10: The Digits Dataset\n",
    "### Dr. Daugherity, PHYS 453 - Spring 2020\n",
    "\n",
    "The digits dataset in sklearn is a sample of a [more complete dataset](http://archive.ics.uci.edu/ml/datasets/Pen-Based+Recognition+of+Handwritten+Digits).  Ours has 1,797 examples of classified hand-written digits 0-9 stored as pixel arrays with color from 0 (white) to 15 (black).\n",
    "\n",
    "How well can our classifiers recognize digits?  The only fair way to evaluate classifier performance is to test them with data they haven't been trained where you know the right answers.  So we will using a **test / train split** as illustrated below."
   ]
  },
  {
   "cell_type": "code",
   "execution_count": 1,
   "metadata": {},
   "outputs": [],
   "source": [
    "import matplotlib.pyplot as plt\n",
    "import numpy as np\n",
    "from sklearn import neighbors\n",
    "from sklearn import naive_bayes\n",
    "from sklearn.datasets import load_digits  \n",
    "from sklearn import metrics  # for confusion matrix"
   ]
  },
  {
   "cell_type": "markdown",
   "metadata": {},
   "source": [
    "We will load in the 1,797 samples from the data set and then split them (crudely):\n",
    "* the first 1,697 will be used for training\n",
    "* the last 100 will not be trained on and will only be used for testing the classifier's performance\n",
    "\n",
    "Sklearn has a `train_test_split` function to do this automatically:  \n",
    "https://scikit-learn.org/stable/modules/generated/sklearn.model_selection.train_test_split.html  \n",
    "but I'll just do it by hand today."
   ]
  },
  {
   "cell_type": "code",
   "execution_count": 2,
   "metadata": {},
   "outputs": [
    {
     "name": "stdout",
     "output_type": "stream",
     "text": [
      "Data:   (1797, 64) (1797,)\n",
      "Train:  (1697, 64) (1697,)\n",
      "Test:   (100, 64) (100,)\n"
     ]
    }
   ],
   "source": [
    "X,y = load_digits(return_X_y=True)\n",
    "\n",
    "# Do a crude test/train split to evaluate classifiers\n",
    "NUM_TEST = 100\n",
    "X_train = X[:-NUM_TEST] # take all but the last 100 elements, use these for training\n",
    "y_train = y[:-NUM_TEST]\n",
    "X_test = X[-NUM_TEST:]  # take only the last 100 elements, use these for testing\n",
    "y_true = y[-NUM_TEST:]  # the right answers to check classifier's performance\n",
    "\n",
    "print(\"Data:  \",X.shape,y.shape)\n",
    "print(\"Train: \",X_train.shape, y_train.shape)\n",
    "print(\"Test:  \",X_test.shape,y_true.shape)"
   ]
  },
  {
   "cell_type": "code",
   "execution_count": 3,
   "metadata": {},
   "outputs": [
    {
     "data": {
      "text/plain": [
       "array([ 0.,  0.,  5., 13.,  9.,  1.,  0.,  0.,  0.,  0., 13., 15., 10.,\n",
       "       15.,  5.,  0.,  0.,  3., 15.,  2.,  0., 11.,  8.,  0.,  0.,  4.,\n",
       "       12.,  0.,  0.,  8.,  8.,  0.,  0.,  5.,  8.,  0.,  0.,  9.,  8.,\n",
       "        0.,  0.,  4., 11.,  0.,  1., 12.,  7.,  0.,  0.,  2., 14.,  5.,\n",
       "       10., 12.,  0.,  0.,  0.,  0.,  6., 13., 10.,  0.,  0.,  0.])"
      ]
     },
     "execution_count": 3,
     "metadata": {},
     "output_type": "execute_result"
    }
   ],
   "source": [
    "X_train[0]"
   ]
  },
  {
   "cell_type": "markdown",
   "metadata": {},
   "source": [
    "We have 64 features each representing a pixel color from 0 (white) to 15 (black).  \n",
    "\n",
    "### VERY IMPORTANT WARNING\n",
    "* To draw the images we need to make a 2D 8x8 array\n",
    "* To use sklearn we need a 2D Nx64 array (for N samples)\n",
    "\n",
    "We will use the reshape command to accomplish this feat:  \n",
    "https://docs.scipy.org/doc/numpy/reference/generated/numpy.reshape.html  \n",
    "In giving the new shape, you can use one -1 and numpy will calculate the dimension from the number of elements"
   ]
  },
  {
   "cell_type": "code",
   "execution_count": 4,
   "metadata": {},
   "outputs": [
    {
     "data": {
      "text/plain": [
       "(64,)"
      ]
     },
     "execution_count": 4,
     "metadata": {},
     "output_type": "execute_result"
    }
   ],
   "source": [
    "X_train[0].shape"
   ]
  },
  {
   "cell_type": "markdown",
   "metadata": {},
   "source": [
    "So one sample is a 1D array with 64 elements, so we need to reshape it"
   ]
  },
  {
   "cell_type": "code",
   "execution_count": 5,
   "metadata": {},
   "outputs": [
    {
     "data": {
      "text/plain": [
       "array([[ 0.,  0.,  5., 13.,  9.,  1.,  0.,  0.],\n",
       "       [ 0.,  0., 13., 15., 10., 15.,  5.,  0.],\n",
       "       [ 0.,  3., 15.,  2.,  0., 11.,  8.,  0.],\n",
       "       [ 0.,  4., 12.,  0.,  0.,  8.,  8.,  0.],\n",
       "       [ 0.,  5.,  8.,  0.,  0.,  9.,  8.,  0.],\n",
       "       [ 0.,  4., 11.,  0.,  1., 12.,  7.,  0.],\n",
       "       [ 0.,  2., 14.,  5., 10., 12.,  0.,  0.],\n",
       "       [ 0.,  0.,  6., 13., 10.,  0.,  0.,  0.]])"
      ]
     },
     "execution_count": 5,
     "metadata": {},
     "output_type": "execute_result"
    }
   ],
   "source": [
    "X_train[0].reshape(8,8)  # make an 8x8 array for drawing"
   ]
  },
  {
   "cell_type": "code",
   "execution_count": 6,
   "metadata": {},
   "outputs": [
    {
     "data": {
      "text/plain": [
       "(8, 8)"
      ]
     },
     "execution_count": 6,
     "metadata": {},
     "output_type": "execute_result"
    }
   ],
   "source": [
    "X_train[0].reshape(8,8).shape"
   ]
  },
  {
   "cell_type": "code",
   "execution_count": 7,
   "metadata": {},
   "outputs": [
    {
     "data": {
      "text/plain": [
       "array([[ 0.,  0.,  5., 13.,  9.,  1.,  0.,  0.,  0.,  0., 13., 15., 10.,\n",
       "        15.,  5.,  0.,  0.,  3., 15.,  2.,  0., 11.,  8.,  0.,  0.,  4.,\n",
       "        12.,  0.,  0.,  8.,  8.,  0.,  0.,  5.,  8.,  0.,  0.,  9.,  8.,\n",
       "         0.,  0.,  4., 11.,  0.,  1., 12.,  7.,  0.,  0.,  2., 14.,  5.,\n",
       "        10., 12.,  0.,  0.,  0.,  0.,  6., 13., 10.,  0.,  0.,  0.]])"
      ]
     },
     "execution_count": 7,
     "metadata": {},
     "output_type": "execute_result"
    }
   ],
   "source": [
    "X_train[0].reshape(1,-1)  # make a 2D 1x64 array for sklearn  (-1 means to use all elements)"
   ]
  },
  {
   "cell_type": "code",
   "execution_count": 8,
   "metadata": {},
   "outputs": [
    {
     "data": {
      "text/plain": [
       "(1, 64)"
      ]
     },
     "execution_count": 8,
     "metadata": {},
     "output_type": "execute_result"
    }
   ],
   "source": [
    "X_train[0].reshape(1,-1).shape"
   ]
  },
  {
   "cell_type": "markdown",
   "metadata": {},
   "source": [
    "**DO NOT PROCEED FARTHER** until you understand this.  \n",
    "\n",
    "Now we can play with digits"
   ]
  },
  {
   "cell_type": "markdown",
   "metadata": {},
   "source": [
    "# Drawing Digits"
   ]
  },
  {
   "cell_type": "code",
   "execution_count": 9,
   "metadata": {},
   "outputs": [
    {
     "data": {
      "image/png": "[encoded data removed]",
      "text/plain": [
       "<Figure size 432x216 with 2 Axes>"
      ]
     },
     "metadata": {
      "needs_background": "light"
     },
     "output_type": "display_data"
    }
   ],
   "source": [
    "# Plot the first training sample\n",
    "plt.figure(figsize=(6, 3))\n",
    "\n",
    "plt.subplot(1,2,1)\n",
    "plt.imshow(X_train[0].reshape(8,8)) \n",
    "plt.title(\"Default Colors\")\n",
    "\n",
    "plt.subplot(1,2,2)\n",
    "plt.title(\"Binary Colormap\")\n",
    "plt.imshow(X_train[0].reshape(8,8), cmap=plt.cm.binary)\n",
    "\n",
    "plt.show()"
   ]
  },
  {
   "cell_type": "markdown",
   "metadata": {},
   "source": [
    "The `imshow` command draws the 8x8 image.  The default colors are quite pretty, but I'll stick with the black and white version"
   ]
  },
  {
   "cell_type": "code",
   "execution_count": 10,
   "metadata": {},
   "outputs": [
    {
     "data": {
      "image/png": "[encoded data removed]",
      "text/plain": [
       "<Figure size 720x360 with 50 Axes>"
      ]
     },
     "metadata": {},
     "output_type": "display_data"
    }
   ],
   "source": [
    "# Plot the first 50 samples\n",
    "fig = plt.figure(figsize=(10, 5))  \n",
    "fig.subplots_adjust(left=0, right=1, bottom=0, top=1, hspace=0.05, wspace=0.05) # make small panels\n",
    "\n",
    "for i in range(50):\n",
    "    ax = fig.add_subplot(5,10, i + 1, xticks=[], yticks=[])\n",
    "    ax.imshow(X_train[i].reshape(8,8), cmap=plt.cm.binary)\n",
    "    ax.text(0, 7, str(y_train[i]))  # label the image with the target value\n",
    "    \n",
    "plt.show()"
   ]
  },
  {
   "cell_type": "code",
   "execution_count": 11,
   "metadata": {},
   "outputs": [
    {
     "data": {
      "text/plain": [
       "array([0, 1, 2, 3, 4, 5, 6, 7, 8, 9, 0, 1, 2, 3, 4, 5, 6, 7, 8, 9, 0, 1,\n",
       "       2, 3, 4, 5, 6, 7, 8, 9, 0, 9, 5, 5, 6, 5, 0, 9, 8, 9, 8, 4, 1, 7,\n",
       "       7, 3, 5, 1, 0, 0])"
      ]
     },
     "execution_count": 11,
     "metadata": {},
     "output_type": "execute_result"
    }
   ],
   "source": [
    "y_train[:50] # the true numbers in the training set"
   ]
  },
  {
   "cell_type": "code",
   "execution_count": 12,
   "metadata": {},
   "outputs": [
    {
     "name": "stdout",
     "output_type": "stream",
     "text": [
      "Target\tCount\n",
      "0 \t 168\n",
      "1 \t 172\n",
      "2 \t 167\n",
      "3 \t 173\n",
      "4 \t 171\n",
      "5 \t 172\n",
      "6 \t 171\n",
      "7 \t 169\n",
      "8 \t 164\n",
      "9 \t 170\n"
     ]
    }
   ],
   "source": [
    "target,count = np.unique(y_train, return_counts=1)\n",
    "print(\"Target\\tCount\")\n",
    "for t,c in zip(target,count):\n",
    "    print(t,'\\t',c)"
   ]
  },
  {
   "cell_type": "markdown",
   "metadata": {},
   "source": [
    "We have nearly equal numbers of all the digits in the training set"
   ]
  },
  {
   "cell_type": "markdown",
   "metadata": {},
   "source": [
    "Let's try training a classifier and seeing if it works"
   ]
  },
  {
   "cell_type": "markdown",
   "metadata": {},
   "source": [
    "# Classifier Performance\n",
    "### The Training Data"
   ]
  },
  {
   "cell_type": "code",
   "execution_count": 13,
   "metadata": {},
   "outputs": [
    {
     "data": {
      "text/plain": [
       "0.8573954036535062"
      ]
     },
     "execution_count": 13,
     "metadata": {},
     "output_type": "execute_result"
    }
   ],
   "source": [
    "clf = naive_bayes.GaussianNB()\n",
    "clf.fit(X_train,y_train)  # only train on the training data!!!!!!!!!!!\n",
    "clf.score(X_train,y_train)"
   ]
  },
  {
   "cell_type": "markdown",
   "metadata": {},
   "source": [
    "The gaussian fits get 85.7% of the training data right.  Where did it go wrong?"
   ]
  },
  {
   "cell_type": "markdown",
   "metadata": {},
   "source": [
    "### The Test Data\n",
    "The only fair way to evaluate a classifier is to use data **it hasn't been trained on**.  That's why we reserved 100 samples for a testing data set.  How well do we do with new samples the classifiers hasn't seen before?"
   ]
  },
  {
   "cell_type": "code",
   "execution_count": 14,
   "metadata": {},
   "outputs": [
    {
     "data": {
      "text/plain": [
       "0.87"
      ]
     },
     "execution_count": 14,
     "metadata": {},
     "output_type": "execute_result"
    }
   ],
   "source": [
    "clf.score(X_test,y_true)"
   ]
  },
  {
   "cell_type": "markdown",
   "metadata": {},
   "source": [
    "We get 87% right!  Consistent scores between the test and train dataset are a good sign that we are not under or over fitting."
   ]
  },
  {
   "cell_type": "code",
   "execution_count": 15,
   "metadata": {},
   "outputs": [
    {
     "data": {
      "image/png": "[encoded data removed]",
      "text/plain": [
       "<Figure size 432x288 with 2 Axes>"
      ]
     },
     "metadata": {
      "needs_background": "light"
     },
     "output_type": "display_data"
    }
   ],
   "source": [
    "metrics.plot_confusion_matrix(clf,X_test,y_true,cmap=plt.cm.Blues,values_format='d')\n",
    "plt.title(\"Confusion Matrix - Testing Data\")\n",
    "plt.show()"
   ]
  },
  {
   "cell_type": "markdown",
   "metadata": {},
   "source": [
    "We get a nice visualization of our mistakes. We often confuse 3's as 5's or 8's. So if I were going to try to improve performance then those are the places I would start."
   ]
  },
  {
   "cell_type": "markdown",
   "metadata": {},
   "source": [
    "**Note:** If your version of sklearn is < 0.22, then you won't have the `plot_confusion_matrix` command.  Instead you can use the basic `confusion_matrix` to get the numbers presented in an uglier way:"
   ]
  },
  {
   "cell_type": "code",
   "execution_count": 18,
   "metadata": {},
   "outputs": [],
   "source": [
    "y_pred = clf.predict(X_test)  # our classifier's predictions"
   ]
  },
  {
   "cell_type": "code",
   "execution_count": 29,
   "metadata": {},
   "outputs": [
    {
     "data": {
      "text/plain": [
       "array([[10,  0,  0,  0,  0,  0,  0,  0,  0,  0],\n",
       "       [ 0,  8,  0,  0,  0,  0,  0,  0,  2,  0],\n",
       "       [ 0,  0,  8,  0,  0,  0,  0,  0,  2,  0],\n",
       "       [ 0,  0,  0,  4,  0,  2,  0,  1,  3,  0],\n",
       "       [ 0,  0,  0,  0,  9,  0,  0,  1,  0,  0],\n",
       "       [ 0,  0,  0,  0,  0, 10,  0,  0,  0,  0],\n",
       "       [ 0,  0,  0,  0,  0,  0, 10,  0,  0,  0],\n",
       "       [ 0,  0,  0,  0,  0,  0,  0, 10,  0,  0],\n",
       "       [ 0,  2,  0,  0,  0,  0,  0,  0,  8,  0],\n",
       "       [ 0,  0,  0,  0,  0,  0,  0,  0,  0, 10]], dtype=int64)"
      ]
     },
     "execution_count": 29,
     "metadata": {},
     "output_type": "execute_result"
    }
   ],
   "source": [
    "metrics.confusion_matrix(y_true,y_pred)"
   ]
  },
  {
   "cell_type": "code",
   "execution_count": 17,
   "metadata": {},
   "outputs": [
    {
     "name": "stdout",
     "output_type": "stream",
     "text": [
      "Sample\tTruth\tPredicted\n",
      "11\t4\t7\n",
      "15\t3\t7\n",
      "20\t2\t8\n",
      "29\t3\t8\n",
      "30\t3\t8\n",
      "32\t3\t5\n",
      "33\t3\t8\n",
      "50\t1\t8\n",
      "54\t2\t8\n",
      "60\t1\t8\n",
      "68\t3\t5\n",
      "93\t8\t1\n",
      "97\t8\t1\n"
     ]
    }
   ],
   "source": [
    "# Find the miss-classified samples\n",
    "miss = []  # save missed sample numbers\n",
    "print('Sample\\tTruth\\tPredicted')\n",
    "for i,pred in enumerate(y_pred):\n",
    "    if pred!=y_true[i]:\n",
    "        print(f\"{i}\\t{y_true[i]}\\t{pred}\")\n",
    "        miss.append(i)"
   ]
  },
  {
   "cell_type": "code",
   "execution_count": 18,
   "metadata": {},
   "outputs": [
    {
     "data": {
      "image/png": "[encoded data removed]",
      "text/plain": [
       "<Figure size 1080x216 with 5 Axes>"
      ]
     },
     "metadata": {},
     "output_type": "display_data"
    }
   ],
   "source": [
    "# Plot the first 5 missed samples\n",
    "fig = plt.figure(figsize=(15, 3))  \n",
    "#fig.subplots_adjust(left=0, right=1, bottom=0, top=1, hspace=0.05, wspace=0.05) # make small panels\n",
    "\n",
    "for i in range(5):\n",
    "    m = miss[i]  # the sample number we are looking at\n",
    "    ax = fig.add_subplot(1,5, i + 1, xticks=[], yticks=[])\n",
    "    ax.imshow(X_test[m].reshape(8,8), cmap=plt.cm.binary)\n",
    "    #ax.text(0, 7, str(y_true[i]))  # Truth value\n",
    "    plt.title(f\"Truth={y_true[m]}, Pred={y_pred[m]}\")\n",
    "    \n",
    "plt.show()"
   ]
  },
  {
   "cell_type": "markdown",
   "metadata": {},
   "source": [
    "Some of these are reasonable guesses, but some are pretty strange.\n",
    "\n",
    "In Homework 5 you will try to do better!"
   ]
  }
 ],
 "metadata": {
  "kernelspec": {
   "display_name": "Python 3",
   "language": "python",
   "name": "python3"
  },
  "language_info": {
   "codemirror_mode": {
    "name": "ipython",
    "version": 3
   },
   "file_extension": ".py",
   "mimetype": "text/x-python",
   "name": "python",
   "nbconvert_exporter": "python",
   "pygments_lexer": "ipython3",
   "version": "3.6.10"
  }
 },
 "nbformat": 4,
 "nbformat_minor": 4
}
